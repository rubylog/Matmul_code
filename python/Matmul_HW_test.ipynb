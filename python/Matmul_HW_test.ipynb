{
 "cells": [
  {
   "cell_type": "code",
   "execution_count": 93,
   "metadata": {},
   "outputs": [],
   "source": [
    "from pynq import Overlay, allocate\n",
    "import numpy as np"
   ]
  },
  {
   "cell_type": "code",
   "execution_count": 94,
   "metadata": {},
   "outputs": [],
   "source": [
    "Matmul_HW = Overlay(\"Matmul_100MHz.bit\")"
   ]
  },
  {
   "cell_type": "code",
   "execution_count": 95,
   "metadata": {},
   "outputs": [],
   "source": [
    "Matmul_HW?"
   ]
  },
  {
   "cell_type": "code",
   "execution_count": 96,
   "metadata": {},
   "outputs": [],
   "source": [
    "cmem_0 = Matmul_HW.cmem_0\n",
    "A_MSB = Matmul_HW.axi_bram_ctrl_0\n",
    "A_LSB = Matmul_HW.axi_bram_ctrl_1\n",
    "B_MSB = Matmul_HW.axi_bram_ctrl_2\n",
    "B_LSB = Matmul_HW.axi_bram_ctrl_3\n",
    "OUTPUT = Matmul_HW.axi_bram_ctrl_4"
   ]
  },
  {
   "cell_type": "code",
   "execution_count": 97,
   "metadata": {},
   "outputs": [],
   "source": [
    "\n",
    "def read_bfloat16_binary_file_to_list(filename):\n",
    "    \"\"\"\n",
    "    Reads a text file containing continuous BFLOAT16 binary representations \n",
    "    and converts it to a list.\n",
    "\n",
    "    Args:\n",
    "        filename (str): The path to the text file.\n",
    "\n",
    "    Returns:\n",
    "        list of list of str: A 2D list of BFLOAT16 binary strings.\n",
    "    \"\"\"\n",
    "    with open(filename, 'r') as f:\n",
    "        # Read all lines, stripping any newline characters\n",
    "        lines = f.readlines()\n",
    "\n",
    "    # Define BFLOAT16 binary length\n",
    "    binary_length = 16\n",
    "\n",
    "    # Process each line\n",
    "    result = []\n",
    "    for line in lines:\n",
    "        # Remove newline and split into chunks of 16 bits\n",
    "        chunks = [line[i:i+binary_length] for i in range(0, len(line.strip()), binary_length)]\n",
    "        result.append(chunks)\n",
    "\n",
    "    return result"
   ]
  },
  {
   "cell_type": "code",
   "execution_count": 98,
   "metadata": {},
   "outputs": [],
   "source": [
    "A_test = read_bfloat16_binary_file_to_list(\"A_64x128_raw.txt\")\n",
    "B_test = read_bfloat16_binary_file_to_list(\"B_64x128_raw.txt\")"
   ]
  },
  {
   "cell_type": "code",
   "execution_count": 99,
   "metadata": {},
   "outputs": [
    {
     "name": "stdout",
     "output_type": "stream",
     "text": [
      "['1100000000000101', '1100000011010010', '1100000011000011', '0100000100111111', '0100000110011011', '0100000110010111', '1100000101011111', '0100000011011011', '1100000110001011', '1100000001011101', '0100000010010001', '1100000110011001', '1100000110010010', '1100000100111001', '1100000110001011', '1011111001011101', '0100000010011011', '0100000110010111', '1100000000000001', '1100000110011101', '1100000011101100', '0100000101010001', '0100000011010000', '1100000101010011', '1011111111100100', '1100000100101110', '1100000101001100', '1100000010001101', '0100000010111001', '1100000011110010', '0100000110011001', '1100000100000001', '1100000011010110', '1100000010111110', '0100000110001101', '1100000110001011', '1100000101100110', '0100000110010010', '0100000100101001', '1100000001000010', '0100000101110000', '1100000110001011', '1100000010101111', '0100000110010110', '1100000010010000', '1100000100001100', '1100000010100011', '1100000101011010', '1100000110011010', '0100000101111110', '0100000101100100', '1100000100000001', '0100000010111000', '1100000011011001', '1100000000011001', '1100000110000111', '1100000101101001', '0100000011010100', '1100000101111111', '1100000100001101', '1100000010001100', '0100000001011101', '1011111000111011', '1100000001011001', '1100000011100111', '0100000000111110', '1100000010100001', '0100000110011101', '1100000110000100', '0100000001111111', '0100000000100100', '1011111100010111', '1100000110010011', '1100000100111101', '1100000110011000', '1011111100011010', '1011111110001111', '0100000110000011', '1100000010000111', '1100000110010111', '1100000011101111', '0100000110001011', '1100000000111100', '1100000110000100', '1100000110010011', '0100000100100000', '0100000100010101', '1100000110000110', '0011111010001111', '1100000100110110', '1100000100110111', '0100000010101100', '1100000100000011', '1100000100000111', '0100000010111000', '1100000000110100', '1100000110000000', '0100000010110110', '1100000101110001', '0100000010010010', '0100000010000110', '1011111101001100', '1100000011000001', '0100000000101111', '1100000101100010', '0100000101110101', '0100000001110101', '0100000001100111', '0011111001101111', '0100000110001110', '0100000100010100', '1100000110011001', '0100000011110101', '1100000001011000', '0100000000001011', '0100000101000000', '0100000100011101', '1100000110011101', '1100000000110101', '0100000100111101', '0100000100000001', '0100000101001111', '0100000101100110', '0100000100000000', '1100000011011011', '1100000110000011', '1011110101000111', '1100000011001101']\n"
     ]
    }
   ],
   "source": [
    "print(A_test[0])\n",
    "#print(B_test)"
   ]
  },
  {
   "cell_type": "code",
   "execution_count": 100,
   "metadata": {},
   "outputs": [],
   "source": [
    "def BF_to_int(input_matrix):\n",
    "    int_matrix = [[int(binary, 2) for binary in row] for row in input_matrix]\n",
    "    return int_matrix"
   ]
  },
  {
   "cell_type": "code",
   "execution_count": 101,
   "metadata": {},
   "outputs": [],
   "source": [
    "A_test_int = BF_to_int(A_test)\n",
    "B_test_int = BF_to_int(B_test)"
   ]
  },
  {
   "cell_type": "code",
   "execution_count": 102,
   "metadata": {},
   "outputs": [
    {
     "name": "stdout",
     "output_type": "stream",
     "text": [
      "[49157, 49362, 49347, 16703, 16795, 16791, 49503, 16603, 49547, 49245, 16529, 49561, 49554, 49465, 49547, 48733, 16539, 16791, 49153, 49565, 49388, 16721, 16592, 49491, 49124, 49454, 49484, 49293, 16569, 49394, 16793, 49409, 49366, 49342, 16781, 49547, 49510, 16786, 16681, 49218, 16752, 49547, 49327, 16790, 49296, 49420, 49315, 49498, 49562, 16766, 16740, 49409, 16568, 49369, 49177, 49543, 49513, 16596, 49535, 49421, 49292, 16477, 48699, 49241, 49383, 16446, 49313, 16797, 49540, 16511, 16420, 48919, 49555, 49469, 49560, 48922, 49039, 16771, 49287, 49559, 49391, 16779, 49212, 49540, 49555, 16672, 16661, 49542, 16015, 49462, 49463, 16556, 49411, 49415, 16568, 49204, 49536, 16566, 49521, 16530, 16518, 48972, 49345, 16431, 49506, 16757, 16501, 16487, 15983, 16782, 16660, 49561, 16629, 49240, 16395, 16704, 16669, 49565, 49205, 16701, 16641, 16719, 16742, 16640, 49371, 49539, 48455, 49357]\n",
      "49241 49383\n"
     ]
    }
   ],
   "source": [
    "print(A_test_int[0])\n",
    "print(A_test_int[0][63], A_test_int[0][64])\n",
    "#print(bin(A_test_int[0][0])[2:].zfill(16))\n",
    "#print(bin(A_test_int[0][1])[2:].zfill(16))"
   ]
  },
  {
   "cell_type": "code",
   "execution_count": 103,
   "metadata": {},
   "outputs": [
    {
     "name": "stdout",
     "output_type": "stream",
     "text": [
      "[49157, 49362, 49347, 16703, 16795, 16791, 49503, 16603, 49547, 49245, 16529, 49561, 49554, 49465, 49547, 48733, 16539, 16791, 49153, 49565, 49388, 16721, 16592, 49491, 49124, 49454, 49484, 49293, 16569, 49394, 16793, 49409, 49366, 49342, 16781, 49547, 49510, 16786, 16681, 49218, 16752, 49547, 49327, 16790, 49296, 49420, 49315, 49498, 49562, 16766, 16740, 49409, 16568, 49369, 49177, 49543, 49513, 16596, 49535, 49421, 49292, 16477, 48699, 49241]\n",
      " \n",
      "[49383, 16446, 49313, 16797, 49540, 16511, 16420, 48919, 49555, 49469, 49560, 48922, 49039, 16771, 49287, 49559, 49391, 16779, 49212, 49540, 49555, 16672, 16661, 49542, 16015, 49462, 49463, 16556, 49411, 49415, 16568, 49204, 49536, 16566, 49521, 16530, 16518, 48972, 49345, 16431, 49506, 16757, 16501, 16487, 15983, 16782, 16660, 49561, 16629, 49240, 16395, 16704, 16669, 49565, 49205, 16701, 16641, 16719, 16742, 16640, 49371, 49539, 48455, 49357]\n",
      " \n",
      "[49434, 49354, 16563, 16787, 16368, 16215, 49350, 16737, 16788, 16713, 49412, 49101, 16626, 16738, 49215, 16769, 16646, 16518, 49539, 16702, 16030, 49538, 16772, 49148, 49217, 16737, 16788, 16677, 16179, 48792, 16751, 16676, 49469, 49198, 16714, 49349, 49425, 16775, 16187, 16329, 49491, 49535, 49472, 49075, 16534, 16749, 49429, 49538, 49560, 16778, 16385, 16755, 49401, 16686, 49507, 49399, 16667, 49541, 16298, 16725, 49560, 16741, 49183, 16621]\n",
      " \n",
      "[16636, 15642, 16588, 16327, 15926, 49542, 49387, 16564, 16697, 49565, 16691, 16767, 16763, 16729, 16794, 49522, 49539, 16535, 49531, 16633, 49450, 16746, 48638, 49556, 16597, 49384, 16332, 49439, 16780, 49202, 49424, 16497, 49305, 49548, 16774, 49235, 16660, 49467, 16790, 49409, 49367, 49549, 16765, 49188, 49293, 49456, 15788, 16779, 16656, 49510, 16722, 16382, 16612, 49494, 16791, 49206, 16670, 49454, 49567, 49392, 16562, 49563, 48712, 49421]\n"
     ]
    }
   ],
   "source": [
    "# input check (first row, 128 data)\n",
    "\n",
    "for row_a, row_b in zip(A_test_int, B_test_int):\n",
    "    A_MSB_list = row_a[:64]\n",
    "    A_LSB_list = row_a[64:]\n",
    "    print(A_MSB_list)\n",
    "    print(' ')\n",
    "    print(A_LSB_list)\n",
    "    print(' ')\n",
    "    \n",
    "    B_MSB_list = row_b[:64]\n",
    "    B_LSB_list = row_b[64:]\n",
    "    print(B_MSB_list)\n",
    "    print(' ')\n",
    "    print(B_LSB_list)\n",
    "    break\n"
   ]
  },
  {
   "cell_type": "code",
   "execution_count": 104,
   "metadata": {},
   "outputs": [],
   "source": [
    "def group_two_inputs_convert_to_int32(int_list):\n",
    "    # Convert 16-bit integer to 32-bit integer\n",
    "    binary_string = ''.join(format(x, '016b') for x in int_list)  # Convert to 16-bit binary string and then concatenate\n",
    "    # Group by two and convert to 32-bit integer\n",
    "    return [int(binary_string[i:i+32], 2) for i in range(0, len(binary_string), 32)]"
   ]
  },
  {
   "cell_type": "code",
   "execution_count": 105,
   "metadata": {},
   "outputs": [
    {
     "name": "stdout",
     "output_type": "stream",
     "text": [
      "[3221602514, 3234021695, 1100693911, 3244245211, 3247161437, 1083294105, 3247620409, 3247160925, 1083916695, 3221340573, 3236708689, 1087422803, 3219439918, 3243032717, 1085915378, 1100595457, 3235299518, 1099809163, 3244704146, 1093255234, 1097908619, 3232711062, 3230712076, 3231957338, 3248111998, 1097122049, 1085849817, 3222913415, 3244900564, 3246375181, 3230416989, 3191586905, 3236380734, 3231793565, 3246669951, 1076150039, 3247685949, 3248013082, 3213836675, 3230122391, 3236905355, 3225207172, 3247653152, 1091944838, 1049608502, 3241623724, 3238248711, 1085849652, 3246407862, 3245424786, 1082572620, 3233890351, 3244441973, 1081426023, 1047478670, 1091879321, 1089847384, 1074479424, 1092469149, 3224715581, 1090601295, 1097220352, 3235627395, 3175596237]\n",
      "11000000000001011100000011010010\n"
     ]
    }
   ],
   "source": [
    "a = group_two_inputs_convert_to_int32(A_test_int[0])\n",
    "print(a)\n",
    "print(bin(a[0])[2:].zfill(16))"
   ]
  },
  {
   "cell_type": "code",
   "execution_count": 106,
   "metadata": {
    "scrolled": true
   },
   "outputs": [
    {
     "name": "stdout",
     "output_type": "stream",
     "text": [
      "<class 'pynq.overlay.DefaultIP'>\n"
     ]
    }
   ],
   "source": [
    "print(type(A_MSB))"
   ]
  },
  {
   "cell_type": "code",
   "execution_count": 107,
   "metadata": {
    "scrolled": true
   },
   "outputs": [
    {
     "name": "stdout",
     "output_type": "stream",
     "text": [
      "A_MSB_list: [3221602514, 3234021695, 1100693911, 3244245211, 3247161437, 1083294105, 3247620409, 3247160925, 1083916695, 3221340573, 3236708689, 1087422803, 3219439918, 3243032717, 1085915378, 1100595457, 3235299518, 1099809163, 3244704146, 1093255234, 1097908619, 3232711062, 3230712076, 3231957338, 3248111998, 1097122049, 1085849817, 3222913415, 3244900564, 3246375181, 3230416989, 3191586905]\n",
      "Verification:\n",
      "A_MSB[0]: 3221602514, B_MSB[0]: 3239755978\n",
      "A_MSB[1]: 3234021695, B_MSB[1]: 1085489555\n",
      "A_MSB[2]: 1100693911, B_MSB[2]: 1072709463\n",
      "A_MSB[3]: 3244245211, B_MSB[3]: 3234218337\n",
      "A_MSB[4]: 3247161437, B_MSB[4]: 1100235081\n",
      "A_MSB[5]: 1083294105, B_MSB[5]: 3238313933\n",
      "A_MSB[6]: 3247620409, B_MSB[6]: 1089618274\n",
      "A_MSB[7]: 3247160925, B_MSB[7]: 3225371009\n",
      "A_MSB[8]: 1083916695, B_MSB[8]: 1090928774\n",
      "A_MSB[9]: 3221340573, B_MSB[9]: 3246604606\n",
      "A_MSB[10]: 3236708689, B_MSB[10]: 1050591618\n",
      "A_MSB[11]: 1087422803, B_MSB[11]: 1099218940\n",
      "A_MSB[12]: 3219439918, B_MSB[12]: 3225502049\n",
      "A_MSB[13]: 3243032717, B_MSB[13]: 1100235045\n",
      "A_MSB[14]: 1085915378, B_MSB[14]: 1060355736\n",
      "A_MSB[15]: 1100595457, B_MSB[15]: 1097810212\n",
      "A_MSB[16]: 3235299518, B_MSB[16]: 3242049582\n",
      "A_MSB[17]: 1099809163, B_MSB[17]: 1095418053\n",
      "A_MSB[18]: 3244704146, B_MSB[18]: 3239133575\n",
      "A_MSB[19]: 1093255234, B_MSB[19]: 1060847561\n",
      "A_MSB[20]: 1097908619, B_MSB[20]: 3243491711\n",
      "A_MSB[21]: 3232711062, B_MSB[21]: 3242246067\n",
      "A_MSB[22]: 3230712076, B_MSB[22]: 1083588973\n",
      "A_MSB[23]: 3231957338, B_MSB[23]: 3239428482\n",
      "A_MSB[24]: 3248111998, B_MSB[24]: 3247980938\n",
      "A_MSB[25]: 1097122049, B_MSB[25]: 1073824115\n",
      "A_MSB[26]: 1085849817, B_MSB[26]: 3237560622\n",
      "A_MSB[27]: 3222913415, B_MSB[27]: 3244540151\n",
      "A_MSB[28]: 3244900564, B_MSB[28]: 1092338053\n",
      "A_MSB[29]: 3246375181, B_MSB[29]: 1068122453\n",
      "A_MSB[30]: 3230416989, B_MSB[30]: 3247980901\n",
      "A_MSB[31]: 3191586905, B_MSB[31]: 3223273709\n",
      "A_LSB[0]: 3236380734, B_LSB[0]: 1090272538\n",
      "A_LSB[1]: 3231793565, B_LSB[1]: 1087127495\n",
      "A_LSB[2]: 3246669951, B_LSB[2]: 1043775878\n",
      "A_LSB[3]: 1076150039, B_LSB[3]: 3236642996\n",
      "A_LSB[4]: 3247685949, B_LSB[4]: 1094304157\n",
      "A_LSB[5]: 3248013082, B_LSB[5]: 1093878143\n",
      "A_LSB[6]: 3213836675, B_LSB[6]: 1098596697\n",
      "A_LSB[7]: 3230122391, B_LSB[7]: 1100661106\n",
      "A_LSB[8]: 3236905355, B_LSB[8]: 3246604439\n",
      "A_LSB[9]: 3225207172, B_LSB[9]: 3246080249\n",
      "A_LSB[10]: 3247653152, B_LSB[10]: 3240771946\n",
      "A_LSB[11]: 1091944838, B_LSB[11]: 3187589524\n",
      "A_LSB[12]: 1049608502, B_LSB[12]: 1087750376\n",
      "A_LSB[13]: 3241623724, B_LSB[13]: 1070383391\n",
      "A_LSB[14]: 3238248711, B_LSB[14]: 1099743282\n",
      "A_LSB[15]: 1085849652, B_LSB[15]: 3239067761\n",
      "A_LSB[16]: 3246407862, B_LSB[16]: 3231302028\n",
      "A_LSB[17]: 3245424786, B_LSB[17]: 1099350099\n",
      "A_LSB[18]: 1082572620, B_LSB[18]: 1091879227\n",
      "A_LSB[19]: 3233890351, B_LSB[19]: 1100398849\n",
      "A_LSB[20]: 3244441973, B_LSB[20]: 3235365261\n",
      "A_LSB[21]: 1081426023, B_LSB[21]: 1098760228\n",
      "A_LSB[22]: 1047478670, B_LSB[22]: 3230515504\n",
      "A_LSB[23]: 1091879321, B_LSB[23]: 1034699147\n",
      "A_LSB[24]: 1089847384, B_LSB[24]: 1091617126\n",
      "A_LSB[25]: 1074479424, B_LSB[25]: 1095909374\n",
      "A_LSB[26]: 1092469149, B_LSB[26]: 1088733526\n",
      "A_LSB[27]: 3224715581, B_LSB[27]: 1100464182\n",
      "A_LSB[28]: 1090601295, B_LSB[28]: 1092534574\n",
      "A_LSB[29]: 1097220352, B_LSB[29]: 3248472304\n",
      "A_LSB[30]: 3235627395, B_LSB[30]: 1085456795\n",
      "A_LSB[31]: 3175596237, B_LSB[31]: 3192439053\n"
     ]
    }
   ],
   "source": [
    "# Insert input Matrix A, B into four brams\n",
    "\n",
    "row = 0 \n",
    "for row_a, row_b in zip(A_test_int, B_test_int): # row = 0 ~ 63\n",
    "    A_MSB_list = group_two_inputs_convert_to_int32(row_a[:64])\n",
    "    A_LSB_list = group_two_inputs_convert_to_int32(row_a[64:])\n",
    "    B_MSB_list = group_two_inputs_convert_to_int32(row_b[:64])\n",
    "    B_LSB_list = group_two_inputs_convert_to_int32(row_b[64:])\n",
    "    \n",
    "    for idx, (a_, b_) in enumerate(zip(A_MSB_list, B_MSB_list)): # idx = 0 ~ 31\n",
    "        A_MSB.mmio.write(row*4*32 + idx*4, a_)\n",
    "        B_MSB.mmio.write(row*4*32 + idx*4, b_) \n",
    "        \n",
    "    for idx, (a_, b_) in enumerate(zip(A_LSB_list, B_LSB_list)):\n",
    "        A_LSB.mmio.write(row*4*32 + idx*4, a_) \n",
    "        B_LSB.mmio.write(row*4*32 + idx*4, b_)\n",
    "\n",
    "    \n",
    "    if row == 0:\n",
    "        print(\"A_MSB_list:\", A_MSB_list)\n",
    "        print(\"Verification:\")\n",
    "        for idx, _ in enumerate(A_MSB_list):\n",
    "            a_read = A_MSB.mmio.read(idx * 4)\n",
    "            b_read = B_MSB.mmio.read(idx * 4)\n",
    "            print(f\"A_MSB[{idx}]: {a_read}, B_MSB[{idx}]: {b_read}\")\n",
    "\n",
    "        for idx, _ in enumerate(A_LSB_list):\n",
    "            a_read = A_LSB.mmio.read(idx * 4)\n",
    "            b_read = B_LSB.mmio.read(idx * 4)\n",
    "            print(f\"A_LSB[{idx}]: {a_read}, B_LSB[{idx}]: {b_read}\")\n",
    "    \n",
    "    row += 1\n",
    "    "
   ]
  },
  {
   "cell_type": "code",
   "execution_count": 108,
   "metadata": {},
   "outputs": [
    {
     "name": "stdout",
     "output_type": "stream",
     "text": [
      "HW time : 0.5011558533 ms\n",
      "Output Matrix waiting finish\n"
     ]
    }
   ],
   "source": [
    "# Send the start signal to the hardware\n",
    "cmem_0.write(0x00, 1)  # start_signal\n",
    "\n",
    "import time\n",
    "startTime = time.time()\n",
    "# Wait for the operation to complete\n",
    "while True:\n",
    "    status = cmem_0.read(0x04)  # Status register address\n",
    "    if status & 1:  # Check if the 'done' bit (bit 0) is set\n",
    "        break\n",
    "print(f\"HW time : {(time.time() - startTime)*1000:.10f} ms\")\n",
    "print(\"Output Matrix waiting finish\")"
   ]
  },
  {
   "cell_type": "code",
   "execution_count": 109,
   "metadata": {},
   "outputs": [],
   "source": [
    "from BF_to_FP_jupyter import BF_to_float_single, BF_to_float_2d"
   ]
  },
  {
   "cell_type": "code",
   "execution_count": 110,
   "metadata": {},
   "outputs": [],
   "source": [
    "output_matrix = []\n",
    "\n",
    "for m in range(64): # 64 rows\n",
    "    row = []\n",
    "    for k in range(32): # 32 cols\n",
    "        matrix_element = OUTPUT.mmio.read(m*4*32 + k*4)\n",
    "        matrix_element_div = bin(matrix_element)[2:].zfill(32)\n",
    "        element_float = BF_to_float_single(matrix_element_div[:16])\n",
    "        row.append(element_float)\n",
    "        element_float_ = BF_to_float_single(matrix_element_div[16:])\n",
    "        row.append(element_float_)\n",
    "        \n",
    "    output_matrix.append(row)\n",
    "    "
   ]
  },
  {
   "cell_type": "code",
   "execution_count": 111,
   "metadata": {
    "scrolled": false
   },
   "outputs": [
    {
     "name": "stdout",
     "output_type": "stream",
     "text": [
      "Matmul HW output, First row 64 elements :  [848.0, 928.0, 1152.0, 1488.0, -1976.0, -1112.0, 2272.0, 1592.0, -80.0, -672.0, 1336.0, -136.0, -800.0, -960.0, -400.0, 104.0, -788.0, -380.0, 920.0, -760.0, -1752.0, -504.0, -1880.0, 2832.0, -1024.0, -40.0, 1640.0, -1584.0, -1464.0, -396.0, 460.0, -1888.0, -1440.0, 124.0, 720.0, -680.0, -1288.0, 1552.0, -320.0, -1336.0, -292.0, -2040.0, 780.0, 2016.0, -1152.0, 444.0, -1840.0, -576.0, -932.0, 868.0, 1864.0, 848.0, -856.0, 2272.0, -374.0, -912.0, 2288.0, 472.0, 12.0, -664.0, 912.0, -488.0, 984.0, -438.0]\n",
      "64\n"
     ]
    }
   ],
   "source": [
    "print(\"Matmul HW output, First row 64 elements : \", output_matrix[0])\n",
    "print(len(output_matrix[0]))"
   ]
  },
  {
   "cell_type": "code",
   "execution_count": 112,
   "metadata": {},
   "outputs": [
    {
     "name": "stdout",
     "output_type": "stream",
     "text": [
      "SW time : 23.0848789215 ms\n",
      "Matmul SW output, First row 64 elements :  [  861.5     934.     1172.     1441.    -1992.    -1068.     2280.\n",
      "  1597.      -83.7    -676.     1347.     -128.2    -767.5    -961.5\n",
      "  -398.      109.44   -799.     -394.8     937.5    -774.    -1765.\n",
      "  -500.5   -1907.     2916.    -1032.      -54.06   1653.    -1469.\n",
      " -1467.     -408.2     333.8   -1903.    -1386.      113.4     725.\n",
      "  -670.    -1291.     1581.     -199.    -1294.     -291.8   -2060.\n",
      "   789.     2034.    -1158.      384.    -1854.     -583.     -941.\n",
      "   892.5    1891.      845.5    -864.5    2304.     -377.     -929.5\n",
      "  2186.      472.8      10.555  -661.      904.     -494.     1066.\n",
      "  -433.2  ]\n"
     ]
    }
   ],
   "source": [
    "################################ SW : Numpy matmul ################################\n",
    "\n",
    "import numpy as np\n",
    "\n",
    "\n",
    "A_float = BF_to_float_2d(A_test)\n",
    "B_float = BF_to_float_2d(B_test)\n",
    "    \n",
    "A_ = np.array(A_float, dtype='float16')\n",
    "B_ = np.array(B_float, dtype='float16')\n",
    "startTime = time.time()\n",
    "matmul_numpy = np.matmul(A_, B_.T)\n",
    "print(f\"SW time : {(time.time() - startTime)*1000:.10f} ms\")\n",
    "\n",
    "print(\"Matmul SW output, First row 64 elements : \", matmul_numpy[0])"
   ]
  },
  {
   "cell_type": "code",
   "execution_count": null,
   "metadata": {},
   "outputs": [],
   "source": []
  }
 ],
 "metadata": {
  "kernelspec": {
   "display_name": "Python 3",
   "language": "python",
   "name": "python3"
  },
  "language_info": {
   "codemirror_mode": {
    "name": "ipython",
    "version": 3
   },
   "file_extension": ".py",
   "mimetype": "text/x-python",
   "name": "python",
   "nbconvert_exporter": "python",
   "pygments_lexer": "ipython3",
   "version": "3.6.5"
  }
 },
 "nbformat": 4,
 "nbformat_minor": 2
}
